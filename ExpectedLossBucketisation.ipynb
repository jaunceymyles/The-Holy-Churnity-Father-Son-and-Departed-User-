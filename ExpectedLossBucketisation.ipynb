{
 "cells": [
  {
   "cell_type": "code",
   "execution_count": 1,
   "metadata": {},
   "outputs": [],
   "source": [
    "import numpy as np\n",
    "import pandas as pd\n",
    "\n",
    "import seaborn as sns\n",
    "import matplotlib.pyplot as plt"
   ]
  },
  {
   "cell_type": "code",
   "execution_count": 2,
   "metadata": {},
   "outputs": [],
   "source": [
    "pred_data = pd.read_csv('pred_data.csv')"
   ]
  },
  {
   "cell_type": "code",
   "execution_count": 4,
   "metadata": {},
   "outputs": [],
   "source": [
    "pred_data = pred_data[['customerid', 'predicted_churn_value']]"
   ]
  },
  {
   "cell_type": "code",
   "execution_count": 5,
   "metadata": {},
   "outputs": [
    {
     "data": {
      "text/html": [
       "<div>\n",
       "<style scoped>\n",
       "    .dataframe tbody tr th:only-of-type {\n",
       "        vertical-align: middle;\n",
       "    }\n",
       "\n",
       "    .dataframe tbody tr th {\n",
       "        vertical-align: top;\n",
       "    }\n",
       "\n",
       "    .dataframe thead th {\n",
       "        text-align: right;\n",
       "    }\n",
       "</style>\n",
       "<table border=\"1\" class=\"dataframe\">\n",
       "  <thead>\n",
       "    <tr style=\"text-align: right;\">\n",
       "      <th></th>\n",
       "      <th>customerid</th>\n",
       "      <th>predicted_churn_value</th>\n",
       "    </tr>\n",
       "  </thead>\n",
       "  <tbody>\n",
       "    <tr>\n",
       "      <th>0</th>\n",
       "      <td>3668-QPYBK</td>\n",
       "      <td>0.372599</td>\n",
       "    </tr>\n",
       "    <tr>\n",
       "      <th>1</th>\n",
       "      <td>9237-HQITU</td>\n",
       "      <td>0.542874</td>\n",
       "    </tr>\n",
       "    <tr>\n",
       "      <th>2</th>\n",
       "      <td>9305-CDSKC</td>\n",
       "      <td>0.520716</td>\n",
       "    </tr>\n",
       "    <tr>\n",
       "      <th>3</th>\n",
       "      <td>7892-POOKP</td>\n",
       "      <td>0.265623</td>\n",
       "    </tr>\n",
       "    <tr>\n",
       "      <th>4</th>\n",
       "      <td>0280-XJGEX</td>\n",
       "      <td>0.239110</td>\n",
       "    </tr>\n",
       "    <tr>\n",
       "      <th>...</th>\n",
       "      <td>...</td>\n",
       "      <td>...</td>\n",
       "    </tr>\n",
       "    <tr>\n",
       "      <th>7038</th>\n",
       "      <td>2569-WGERO</td>\n",
       "      <td>0.027261</td>\n",
       "    </tr>\n",
       "    <tr>\n",
       "      <th>7039</th>\n",
       "      <td>6840-RESVB</td>\n",
       "      <td>0.041007</td>\n",
       "    </tr>\n",
       "    <tr>\n",
       "      <th>7040</th>\n",
       "      <td>2234-XADUH</td>\n",
       "      <td>0.061672</td>\n",
       "    </tr>\n",
       "    <tr>\n",
       "      <th>7041</th>\n",
       "      <td>4801-JZAZL</td>\n",
       "      <td>0.283509</td>\n",
       "    </tr>\n",
       "    <tr>\n",
       "      <th>7042</th>\n",
       "      <td>3186-AJIEK</td>\n",
       "      <td>0.134068</td>\n",
       "    </tr>\n",
       "  </tbody>\n",
       "</table>\n",
       "<p>7043 rows × 2 columns</p>\n",
       "</div>"
      ],
      "text/plain": [
       "      customerid  predicted_churn_value\n",
       "0     3668-QPYBK               0.372599\n",
       "1     9237-HQITU               0.542874\n",
       "2     9305-CDSKC               0.520716\n",
       "3     7892-POOKP               0.265623\n",
       "4     0280-XJGEX               0.239110\n",
       "...          ...                    ...\n",
       "7038  2569-WGERO               0.027261\n",
       "7039  6840-RESVB               0.041007\n",
       "7040  2234-XADUH               0.061672\n",
       "7041  4801-JZAZL               0.283509\n",
       "7042  3186-AJIEK               0.134068\n",
       "\n",
       "[7043 rows x 2 columns]"
      ]
     },
     "execution_count": 5,
     "metadata": {},
     "output_type": "execute_result"
    }
   ],
   "source": [
    "pred_data"
   ]
  },
  {
   "cell_type": "code",
   "execution_count": 25,
   "metadata": {},
   "outputs": [
    {
     "data": {
      "text/plain": [
       "<Axes: xlabel='predicted_churn_value', ylabel='Count'>"
      ]
     },
     "execution_count": 25,
     "metadata": {},
     "output_type": "execute_result"
    },
    {
     "data": {
      "image/png": "[encoded data removed]",
      "text/plain": [
       "<Figure size 640x480 with 1 Axes>"
      ]
     },
     "metadata": {},
     "output_type": "display_data"
    }
   ],
   "source": [
    "sns.histplot(pred_data['predicted_churn_value'], bins = 70)"
   ]
  },
  {
   "cell_type": "markdown",
   "metadata": {},
   "source": [
    "0-0.1 very low risk\n",
    "\n",
    "0.1-0.4 low risk\n",
    "\n",
    "0.4-0.6 medium risk\n",
    "\n",
    "0.6-0.9 high risk\n",
    "\n",
    "0.9-1 very high risk"
   ]
  },
  {
   "cell_type": "code",
   "execution_count": 9,
   "metadata": {},
   "outputs": [],
   "source": [
    "import random\n",
    "\n",
    "def ExpectedChurn(df, simulationNum = 1000):\n",
    "    probs = df['predicted_churn_value'].values\n",
    "    numCustomers = len(probs)\n",
    "    results = np.zeros((simulationNum, numCustomers))\n",
    "    lossDist = np.zeros(simulationNum)\n",
    "    for i in range(simulationNum):\n",
    "        for index in range(numCustomers):\n",
    "            rand = random.uniform(0,1)\n",
    "            prob = df['predicted_churn_value'].loc[index]\n",
    "            if rand <= prob:\n",
    "                results[i][index] = 1\n",
    "        lossDist[i] = results[i].mean()\n",
    "    expectedCustomerChurn = lossDist.mean()\n",
    "    return expectedCustomerChurn, lossDist"
   ]
  },
  {
   "cell_type": "code",
   "execution_count": 10,
   "metadata": {},
   "outputs": [],
   "source": [
    "expectvalue, pdf = ExpectedChurn(pred_data)"
   ]
  },
  {
   "cell_type": "code",
   "execution_count": 18,
   "metadata": {},
   "outputs": [],
   "source": [
    "def ExpectedChurnV2(df, simulationNum = 100000):\n",
    "    probs = df['predicted_churn_value'].values\n",
    "    numCustomers = len(probs)\n",
    "\n",
    "    randomMatrix = np.random.rand(simulationNum, numCustomers)\n",
    "\n",
    "    churnMatrix = (randomMatrix <= probs).astype(int)\n",
    "\n",
    "    lossDist = churnMatrix.mean(axis=1)\n",
    "\n",
    "    expectedCustomerChurn = lossDist.mean()\n",
    "\n",
    "    lowerBound99, upperBound99 = np.percentile(lossDist, [0.5, 99.5])\n",
    "    \n",
    "    return expectedCustomerChurn, lossDist, lowerBound99, upperBound99"
   ]
  },
  {
   "cell_type": "code",
   "execution_count": 19,
   "metadata": {},
   "outputs": [],
   "source": [
    "expectedvaluev2, pdfv2, lb99, ub99 = ExpectedChurnV2(pred_data)"
   ]
  },
  {
   "cell_type": "code",
   "execution_count": 13,
   "metadata": {},
   "outputs": [
    {
     "name": "stdout",
     "output_type": "stream",
     "text": [
      "(np.float64(0.26601490841970754), np.float64(0.26608646883430354))\n",
      "\n",
      "\n"
     ]
    }
   ],
   "source": [
    "print((expectvalue, expectedvaluev2))\n",
    "print('\\n')"
   ]
  },
  {
   "cell_type": "code",
   "execution_count": 22,
   "metadata": {},
   "outputs": [
    {
     "data": {
      "text/plain": [
       "<Axes: xlabel='predicted_churn_value', ylabel='Count'>"
      ]
     },
     "execution_count": 22,
     "metadata": {},
     "output_type": "execute_result"
    },
    {
     "data": {
      "image/png": "[encoded data removed]",
      "text/plain": [
       "<Figure size 640x480 with 1 Axes>"
      ]
     },
     "metadata": {},
     "output_type": "display_data"
    }
   ],
   "source": [
    "sns.histplot(pred_data['predicted_churn_value'], bins =500)"
   ]
  },
  {
   "cell_type": "code",
   "execution_count": 17,
   "metadata": {},
   "outputs": [
    {
     "data": {
      "text/plain": [
       "<Axes: ylabel='Count'>"
      ]
     },
     "execution_count": 17,
     "metadata": {},
     "output_type": "execute_result"
    },
    {
     "data": {
      "image/png": "[encoded data removed]",
      "text/plain": [
       "<Figure size 640x480 with 1 Axes>"
      ]
     },
     "metadata": {},
     "output_type": "display_data"
    }
   ],
   "source": [
    "sns.histplot(pdfv2)"
   ]
  },
  {
   "cell_type": "markdown",
   "metadata": {},
   "source": [
    "Bucketisation"
   ]
  },
  {
   "cell_type": "code",
   "execution_count": 36,
   "metadata": {},
   "outputs": [],
   "source": [
    "bucketval = [0, 10, 40, 60, 90, 100]\n",
    "bucketlabel = ['Very Low Risk', 'Low Risk', 'Medium Risk', 'High Risk', 'Very High Risk']\n",
    "\n",
    "pred_data_final = pred_data.copy()\n",
    "\n",
    "pred_data_final['Likelihood of Churn [%]'] = pred_data_final['predicted_churn_value'] * 100\n",
    "\n",
    "pred_data_final['Risk Label'] = pd.cut(pred_data_final['Likelihood of Churn [%]'], bins=bucketval, labels=bucketlabel, right=False)"
   ]
  },
  {
   "cell_type": "code",
   "execution_count": 37,
   "metadata": {},
   "outputs": [
    {
     "data": {
      "text/html": [
       "<div>\n",
       "<style scoped>\n",
       "    .dataframe tbody tr th:only-of-type {\n",
       "        vertical-align: middle;\n",
       "    }\n",
       "\n",
       "    .dataframe tbody tr th {\n",
       "        vertical-align: top;\n",
       "    }\n",
       "\n",
       "    .dataframe thead th {\n",
       "        text-align: right;\n",
       "    }\n",
       "</style>\n",
       "<table border=\"1\" class=\"dataframe\">\n",
       "  <thead>\n",
       "    <tr style=\"text-align: right;\">\n",
       "      <th></th>\n",
       "      <th>customerid</th>\n",
       "      <th>predicted_churn_value</th>\n",
       "      <th>labeled_risk</th>\n",
       "      <th>Likelihood of Churn [%]</th>\n",
       "      <th>Risk Label</th>\n",
       "    </tr>\n",
       "  </thead>\n",
       "  <tbody>\n",
       "    <tr>\n",
       "      <th>0</th>\n",
       "      <td>3668-QPYBK</td>\n",
       "      <td>0.372599</td>\n",
       "      <td>Low Risk</td>\n",
       "      <td>37.259907</td>\n",
       "      <td>Low Risk</td>\n",
       "    </tr>\n",
       "    <tr>\n",
       "      <th>1</th>\n",
       "      <td>9237-HQITU</td>\n",
       "      <td>0.542874</td>\n",
       "      <td>Medium Risk</td>\n",
       "      <td>54.287374</td>\n",
       "      <td>Medium Risk</td>\n",
       "    </tr>\n",
       "    <tr>\n",
       "      <th>2</th>\n",
       "      <td>9305-CDSKC</td>\n",
       "      <td>0.520716</td>\n",
       "      <td>Medium Risk</td>\n",
       "      <td>52.071560</td>\n",
       "      <td>Medium Risk</td>\n",
       "    </tr>\n",
       "    <tr>\n",
       "      <th>3</th>\n",
       "      <td>7892-POOKP</td>\n",
       "      <td>0.265623</td>\n",
       "      <td>Low Risk</td>\n",
       "      <td>26.562348</td>\n",
       "      <td>Low Risk</td>\n",
       "    </tr>\n",
       "    <tr>\n",
       "      <th>4</th>\n",
       "      <td>0280-XJGEX</td>\n",
       "      <td>0.239110</td>\n",
       "      <td>Low Risk</td>\n",
       "      <td>23.911020</td>\n",
       "      <td>Low Risk</td>\n",
       "    </tr>\n",
       "    <tr>\n",
       "      <th>...</th>\n",
       "      <td>...</td>\n",
       "      <td>...</td>\n",
       "      <td>...</td>\n",
       "      <td>...</td>\n",
       "      <td>...</td>\n",
       "    </tr>\n",
       "    <tr>\n",
       "      <th>7038</th>\n",
       "      <td>2569-WGERO</td>\n",
       "      <td>0.027261</td>\n",
       "      <td>Very Low Risk</td>\n",
       "      <td>2.726094</td>\n",
       "      <td>Very Low Risk</td>\n",
       "    </tr>\n",
       "    <tr>\n",
       "      <th>7039</th>\n",
       "      <td>6840-RESVB</td>\n",
       "      <td>0.041007</td>\n",
       "      <td>Very Low Risk</td>\n",
       "      <td>4.100697</td>\n",
       "      <td>Very Low Risk</td>\n",
       "    </tr>\n",
       "    <tr>\n",
       "      <th>7040</th>\n",
       "      <td>2234-XADUH</td>\n",
       "      <td>0.061672</td>\n",
       "      <td>Very Low Risk</td>\n",
       "      <td>6.167231</td>\n",
       "      <td>Very Low Risk</td>\n",
       "    </tr>\n",
       "    <tr>\n",
       "      <th>7041</th>\n",
       "      <td>4801-JZAZL</td>\n",
       "      <td>0.283509</td>\n",
       "      <td>Low Risk</td>\n",
       "      <td>28.350880</td>\n",
       "      <td>Low Risk</td>\n",
       "    </tr>\n",
       "    <tr>\n",
       "      <th>7042</th>\n",
       "      <td>3186-AJIEK</td>\n",
       "      <td>0.134068</td>\n",
       "      <td>Low Risk</td>\n",
       "      <td>13.406828</td>\n",
       "      <td>Low Risk</td>\n",
       "    </tr>\n",
       "  </tbody>\n",
       "</table>\n",
       "<p>7043 rows × 5 columns</p>\n",
       "</div>"
      ],
      "text/plain": [
       "      customerid  predicted_churn_value   labeled_risk  \\\n",
       "0     3668-QPYBK               0.372599       Low Risk   \n",
       "1     9237-HQITU               0.542874    Medium Risk   \n",
       "2     9305-CDSKC               0.520716    Medium Risk   \n",
       "3     7892-POOKP               0.265623       Low Risk   \n",
       "4     0280-XJGEX               0.239110       Low Risk   \n",
       "...          ...                    ...            ...   \n",
       "7038  2569-WGERO               0.027261  Very Low Risk   \n",
       "7039  6840-RESVB               0.041007  Very Low Risk   \n",
       "7040  2234-XADUH               0.061672  Very Low Risk   \n",
       "7041  4801-JZAZL               0.283509       Low Risk   \n",
       "7042  3186-AJIEK               0.134068       Low Risk   \n",
       "\n",
       "      Likelihood of Churn [%]     Risk Label  \n",
       "0                   37.259907       Low Risk  \n",
       "1                   54.287374    Medium Risk  \n",
       "2                   52.071560    Medium Risk  \n",
       "3                   26.562348       Low Risk  \n",
       "4                   23.911020       Low Risk  \n",
       "...                       ...            ...  \n",
       "7038                 2.726094  Very Low Risk  \n",
       "7039                 4.100697  Very Low Risk  \n",
       "7040                 6.167231  Very Low Risk  \n",
       "7041                28.350880       Low Risk  \n",
       "7042                13.406828       Low Risk  \n",
       "\n",
       "[7043 rows x 5 columns]"
      ]
     },
     "execution_count": 37,
     "metadata": {},
     "output_type": "execute_result"
    }
   ],
   "source": [
    "pred_data_final"
   ]
  },
  {
   "cell_type": "code",
   "execution_count": 38,
   "metadata": {},
   "outputs": [],
   "source": [
    "pred_data_final = pred_data_final.rename(columns = {'customerid': 'Customer ID'})\n",
    "\n",
    "pred_data_final_output = pred_data_final.drop(columns=['predicted_churn_value', 'labeled_risk'])"
   ]
  },
  {
   "cell_type": "code",
   "execution_count": 40,
   "metadata": {},
   "outputs": [],
   "source": [
    "pred_data_final_output.to_csv('Pred_Data_Submission.csv', index=False)"
   ]
  },
  {
   "cell_type": "code",
   "execution_count": null,
   "metadata": {},
   "outputs": [],
   "source": []
  }
 ],
 "metadata": {
  "kernelspec": {
   "display_name": "data-analytics",
   "language": "python",
   "name": "python3"
  },
  "language_info": {
   "codemirror_mode": {
    "name": "ipython",
    "version": 3
   },
   "file_extension": ".py",
   "mimetype": "text/x-python",
   "name": "python",
   "nbconvert_exporter": "python",
   "pygments_lexer": "ipython3",
   "version": "3.13.5"
  }
 },
 "nbformat": 4,
 "nbformat_minor": 2
}
